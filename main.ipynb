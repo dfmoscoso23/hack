{
 "cells": [
  {
   "cell_type": "markdown",
   "id": "a32079fb-e03f-4dd6-804c-823e4af20afd",
   "metadata": {},
   "source": [
    "# OUR BEST MODEL"
   ]
  },
  {
   "cell_type": "markdown",
   "id": "9a254430-93ed-4c6f-9f27-87d7d462fd86",
   "metadata": {},
   "source": [
    "Authors:\n",
    "- Adrián Cox adrcoxgar@gmail.com \n",
    "- JC pardo jcparmed@gmail\n",
    "- David Moscoso dfmoscoso23@gmail.com"
   ]
  },
  {
   "cell_type": "code",
   "execution_count": 1,
   "id": "da79ebb8-aaa8-4041-beb1-47bc19967eac",
   "metadata": {
    "tags": []
   },
   "outputs": [],
   "source": [
    "# We use a combination of the three Datasets\n",
    "import pandas as pd\n",
    "import numpy as np\n",
    "df=pd.read_csv(\"sin_pfs.csv\",delimiter=\";\")\n",
    "df.drop_duplicates(inplace=True)\n",
    "df.drop([\"countryName\",\"FacilityInspireID\",\"City\",\"targetRelease\",\"MONTH\",\"DAY\",\"CONTINENT\",\"REPORTER NAME\",\"CITY ID\"], axis=1,inplace=True)"
   ]
  },
  {
   "cell_type": "code",
   "execution_count": 2,
   "id": "11b79e02-268b-4bed-8f59-0d270762736e",
   "metadata": {},
   "outputs": [],
   "source": [
    "# Encoding of the class column\n",
    "from sklearn.preprocessing import LabelEncoder\n",
    "class_labelEncoding = LabelEncoder()\n",
    "class_labelEncoding.fit(df[\"pollutant\"].values)\n",
    "clase = class_labelEncoding.transform(df[\"pollutant\"].values)\n",
    "df[\"clase\"]=clase"
   ]
  },
  {
   "cell_type": "code",
   "execution_count": 3,
   "id": "0dd8da8c-3535-4ebe-96be-28a024c489f9",
   "metadata": {
    "tags": []
   },
   "outputs": [],
   "source": [
    "from sklearn.metrics import accuracy_score\n",
    "from sklearn.model_selection import train_test_split\n",
    "from sklearn.ensemble import RandomForestClassifier\n",
    "from sklearn.metrics import jaccard_score\n",
    "from sklearn.metrics import accuracy_score\n",
    "from sklearn.metrics import precision_score\n",
    "from sklearn.metrics import recall_score\n",
    "from sklearn.metrics import f1_score\n",
    "from sklearn.metrics import confusion_matrix\n",
    "from sklearn.metrics import plot_confusion_matrix\n",
    "from sklearn.metrics import confusion_matrix, ConfusionMatrixDisplay"
   ]
  },
  {
   "cell_type": "code",
   "execution_count": 4,
   "id": "ca01e216-534e-4a59-9c5b-d07c69838e18",
   "metadata": {
    "tags": []
   },
   "outputs": [],
   "source": [
    "# After the results of the EDA we saw that the relation core of the relation between \n",
    "# the pollution class was with the Sector Name and the Activity label.\n",
    "\n",
    "df_prueba= pd.get_dummies(df[\"eprtrSectorName\"], prefix=None)\n",
    "df_indus = pd.get_dummies(df[\"EPRTRAnnexIMainActivityLabel\"], prefix=None)\n",
    "df_mod = pd.concat([df_prueba,df_indus],axis=1)\n"
   ]
  },
  {
   "cell_type": "markdown",
   "id": "66361dd6-033c-4de1-99fa-455cd85f575b",
   "metadata": {},
   "source": [
    "<img src=\"eda.jpg\">"
   ]
  },
  {
   "cell_type": "code",
   "execution_count": 5,
   "id": "1f22f336-152d-4bf2-b20e-0e5b42a4e3c9",
   "metadata": {},
   "outputs": [],
   "source": [
    "#As we can see the in this figure form the EDA the Energy sector have an over sampling. \n",
    "#Because of that, we plan make an Undersampling to equilibrate the dataset \n",
    "df_sampleado = pd.concat([df_mod, df[\"clase\"]],axis=1)\n",
    "elegidos=np.random.choice(df_sampleado[df_sampleado[\"Energy sector\"]==1].index,15000)\n",
    "df_sampleado.drop(elegidos,axis=0,inplace=True)"
   ]
  },
  {
   "cell_type": "code",
   "execution_count": 6,
   "id": "124c4803-e67c-434a-8123-a09a3cd2ea73",
   "metadata": {},
   "outputs": [
    {
     "name": "stdout",
     "output_type": "stream",
     "text": [
      "Jaccard index:  0.5137774924581963\n",
      "Exactitud:  0.6472582972582973\n",
      "Precisión:  0.6653746542448467\n",
      "Sensibilidad:  0.6511351171224101\n",
      "F1-score:  0.6472588568649885\n",
      "[[1540  103 2880]\n",
      " [ 125 3600  332]\n",
      " [1272  177 3831]]\n"
     ]
    },
    {
     "data": {
      "text/plain": [
       "<sklearn.metrics._plot.confusion_matrix.ConfusionMatrixDisplay at 0x1b55e7bb880>"
      ]
     },
     "execution_count": 6,
     "metadata": {},
     "output_type": "execute_result"
    },
    {
     "data": {
      "image/png": "[encoded data removed]",
      "text/plain": [
       "<Figure size 432x288 with 2 Axes>"
      ]
     },
     "metadata": {
      "needs_background": "light"
     },
     "output_type": "display_data"
    }
   ],
   "source": [
    "# We use a standar Train y test to prove the model is working\n",
    "X = df_sampleado.drop([\"clase\"],axis=1)\n",
    "y = df_sampleado[\"clase\"]\n",
    "X_train, X_test, y_train, y_test = train_test_split(X, y, test_size=0.3, stratify=y)\n",
    "\n",
    "clf = RandomForestClassifier(n_jobs=-1)\n",
    "clf = clf.fit(X_train, y_train)\n",
    "yhat = clf.predict(X_test)\n",
    "accuracy_score(y_test, yhat)\n",
    "print(\"Jaccard index: \" , jaccard_score(y_test, yhat, average=\"macro\"))\n",
    "print(\"Exactitud: \" , accuracy_score(y_test, yhat))\n",
    "print(\"Precisión: \", precision_score(y_test, yhat, average=\"macro\"))\n",
    "print(\"Sensibilidad: \", recall_score(y_test, yhat, average=\"macro\"))\n",
    "print(\"F1-score: \", f1_score(y_test,yhat, average=\"macro\"))\n",
    "cm = confusion_matrix(y_test,yhat)\n",
    "print(cm)\n",
    "disp = ConfusionMatrixDisplay(confusion_matrix=cm)\n",
    "disp.plot()"
   ]
  },
  {
   "cell_type": "code",
   "execution_count": 7,
   "id": "9b891533-d8f9-42b2-90c6-08c3f76ebcdc",
   "metadata": {},
   "outputs": [],
   "source": [
    "#After the test we trained the model with all the data\n",
    "X = df_sampleado.drop([\"clase\"], axis=1)\n",
    "y = df_sampleado[\"clase\"]\n",
    "\n",
    "\n",
    "clf = RandomForestClassifier(n_jobs=-1)\n",
    "clf = clf.fit(X, y)\n"
   ]
  },
  {
   "cell_type": "markdown",
   "id": "e01c753c-3201-4509-b9f1-15171a3f0e79",
   "metadata": {},
   "source": [
    "# TEST DATA"
   ]
  },
  {
   "cell_type": "code",
   "execution_count": 8,
   "id": "3893b61e-d829-4794-9f79-a2f888fe599b",
   "metadata": {},
   "outputs": [],
   "source": [
    "test_data = pd.read_csv(\"test_x.csv\")"
   ]
  },
  {
   "cell_type": "code",
   "execution_count": 9,
   "id": "e2f124b2-0d5c-4e6d-9f77-06a966a93e5a",
   "metadata": {},
   "outputs": [],
   "source": [
    "df_prueba_test= pd.get_dummies(test_data[\"eprtrSectorName\"], prefix=None)\n",
    "df_indus_test = pd.get_dummies(test_data[\"EPRTRAnnexIMainActivityLabel\"], prefix=None)\n",
    "df_test_data = pd.concat([df_prueba_test,df_indus_test],axis=1)"
   ]
  },
  {
   "cell_type": "code",
   "execution_count": 10,
   "id": "80886751-7e3b-4d66-82e0-ed5a08bcb1ac",
   "metadata": {},
   "outputs": [],
   "source": [
    "# Equilibrate the amount of the columns of the test data to get usefull in our model\n",
    "for x in df_sampleado.columns:\n",
    "    if x  not in df_test_data.columns:\n",
    "        df_test_data[x]=0"
   ]
  },
  {
   "cell_type": "code",
   "execution_count": 11,
   "id": "e2e24f6d-72af-462a-8be8-aed49210e0b9",
   "metadata": {},
   "outputs": [
    {
     "name": "stderr",
     "output_type": "stream",
     "text": [
      "C:\\Users\\David\\miniconda3\\envs\\extraccion\\lib\\site-packages\\sklearn\\base.py:493: FutureWarning: The feature names should match those that were passed during fit. Starting version 1.2, an error will be raised.\n",
      "Feature names must be in the same order as they were in fit.\n",
      "\n",
      "  warnings.warn(message, FutureWarning)\n"
     ]
    }
   ],
   "source": [
    "dft=df_test_data.drop([\"clase\"],axis=1)\n",
    "yhat = clf.predict(dft)"
   ]
  },
  {
   "cell_type": "code",
   "execution_count": 12,
   "id": "cb821818-eca2-413a-9590-1ee95ab57c08",
   "metadata": {},
   "outputs": [],
   "source": [
    "predic=pd.Series(yhat)"
   ]
  },
  {
   "cell_type": "code",
   "execution_count": 13,
   "id": "2429b9b8-e612-4b26-8834-60359f1386b6",
   "metadata": {},
   "outputs": [],
   "source": [
    "predictions=predic.to_csv(\"predictions.csv\")"
   ]
  },
  {
   "cell_type": "code",
   "execution_count": 14,
   "id": "a9a25fce-fd58-4867-b189-866ac3a97fc7",
   "metadata": {},
   "outputs": [],
   "source": [
    "predictions=predic.to_json(\"predictions.json\")"
   ]
  }
 ],
 "metadata": {
  "kernelspec": {
   "display_name": "Python 3 (ipykernel)",
   "language": "python",
   "name": "python3"
  },
  "language_info": {
   "codemirror_mode": {
    "name": "ipython",
    "version": 3
   },
   "file_extension": ".py",
   "mimetype": "text/x-python",
   "name": "python",
   "nbconvert_exporter": "python",
   "pygments_lexer": "ipython3",
   "version": "3.9.0"
  },
  "toc-autonumbering": true,
  "toc-showcode": true,
  "toc-showmarkdowntxt": true
 },
 "nbformat": 4,
 "nbformat_minor": 5
}
